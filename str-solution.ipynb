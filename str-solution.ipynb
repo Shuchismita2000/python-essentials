{
 "cells": [
  {
   "cell_type": "markdown",
   "metadata": {},
   "source": [
    "![](https://t3.ftcdn.net/jpg/03/87/36/48/360_F_387364834_JwkVeZ7AiyDjxcCqDS7jZ1JeYFSHAUkK.jpg)"
   ]
  },
  {
   "cell_type": "markdown",
   "metadata": {},
   "source": [
    "### Length of you full name"
   ]
  },
  {
   "cell_type": "code",
   "execution_count": 1,
   "metadata": {},
   "outputs": [
    {
     "data": {
      "text/plain": [
       "19"
      ]
     },
     "execution_count": 1,
     "metadata": {},
     "output_type": "execute_result"
    }
   ],
   "source": [
    "#try your code here\n",
    "name='Shuchismita Mallick'\n",
    "len(name)"
   ]
  },
  {
   "cell_type": "markdown",
   "metadata": {},
   "source": [
    "### Find your first name and last name"
   ]
  },
  {
   "cell_type": "code",
   "execution_count": 2,
   "metadata": {},
   "outputs": [
    {
     "data": {
      "text/plain": [
       "['Shuchismita', 'Mallick']"
      ]
     },
     "execution_count": 2,
     "metadata": {},
     "output_type": "execute_result"
    }
   ],
   "source": [
    "#try your code here\n",
    "name.split(' ')"
   ]
  },
  {
   "cell_type": "code",
   "execution_count": 3,
   "metadata": {},
   "outputs": [
    {
     "name": "stdout",
     "output_type": "stream",
     "text": [
      "Shuchismita\n",
      "Mallick\n"
     ]
    }
   ],
   "source": [
    "x=name.split(' ')\n",
    "first_name=x[0]\n",
    "last_name=x[1]\n",
    "print(first_name)\n",
    "print(last_name)"
   ]
  },
  {
   "cell_type": "markdown",
   "metadata": {},
   "source": [
    "### Find consonants of your first name and vowels in last name"
   ]
  },
  {
   "cell_type": "code",
   "execution_count": 4,
   "metadata": {},
   "outputs": [
    {
     "name": "stdout",
     "output_type": "stream",
     "text": [
      "s\n",
      "h\n",
      "c\n",
      "h\n",
      "s\n",
      "m\n",
      "t\n",
      "Total consonants:\n"
     ]
    }
   ],
   "source": [
    "#try your code here\n",
    "consonants = \"bcdfghjklmnpqrstvwxyz\"\n",
    "count=0\n",
    "for x in first_name.lower():\n",
    "    if x in consonants:\n",
    "        print(x)\n",
    "        count += 1\n",
    "print('Total consonants:')"
   ]
  },
  {
   "cell_type": "code",
   "execution_count": 5,
   "metadata": {},
   "outputs": [],
   "source": [
    "vowels = \"aeiou\"\n",
    "count=0\n",
    "res=[]\n",
    "for x in last_name:\n",
    "    if x in vowels:\n",
    "        res.append(x)\n",
    "        count += 1"
   ]
  },
  {
   "cell_type": "code",
   "execution_count": 6,
   "metadata": {},
   "outputs": [
    {
     "name": "stdout",
     "output_type": "stream",
     "text": [
      "2\n",
      "['a', 'i']\n"
     ]
    }
   ],
   "source": [
    "print(count)\n",
    "print(res)"
   ]
  },
  {
   "cell_type": "markdown",
   "metadata": {},
   "source": [
    "### First letter of each word in the string 'Hello everyone ! Welcome to our python session'"
   ]
  },
  {
   "cell_type": "code",
   "execution_count": 7,
   "metadata": {},
   "outputs": [
    {
     "name": "stdout",
     "output_type": "stream",
     "text": [
      "H\n",
      "e\n",
      "!\n",
      "W\n",
      "t\n",
      "o\n",
      "p\n",
      "s\n"
     ]
    }
   ],
   "source": [
    "#try your code here\n",
    "text='Hello everyone ! Welcome to our python session'\n",
    "for s in text.split():\n",
    "    print(s[0])"
   ]
  },
  {
   "cell_type": "markdown",
   "metadata": {},
   "source": [
    "### write a code to accept user's first name and favourite food and print it as shown below\n",
    "\"Hello. My name is Amit and I like Pav Bhaji.\""
   ]
  },
  {
   "cell_type": "code",
   "execution_count": 8,
   "metadata": {},
   "outputs": [
    {
     "name": "stdout",
     "output_type": "stream",
     "text": [
      "Enter your first name: shuchismita\n",
      "Enter your favourite food: noodles\n"
     ]
    },
    {
     "data": {
      "text/plain": [
       "'Hello. My name is shuchismita and I like noodles.'"
      ]
     },
     "execution_count": 8,
     "metadata": {},
     "output_type": "execute_result"
    }
   ],
   "source": [
    "name = str(input(\"Enter your first name: \"))\n",
    "food = str(input(\"Enter your favourite food: \"))\n",
    "f'Hello. My name is {name} and I like {food}.'"
   ]
  },
  {
   "cell_type": "markdown",
   "metadata": {},
   "source": [
    "### Reverse the string “hello world”"
   ]
  },
  {
   "cell_type": "code",
   "execution_count": 9,
   "metadata": {},
   "outputs": [
    {
     "data": {
      "text/plain": [
       "'dlrow olleh'"
      ]
     },
     "execution_count": 9,
     "metadata": {},
     "output_type": "execute_result"
    }
   ],
   "source": [
    "''.join(reversed(\"hello world\"))"
   ]
  },
  {
   "cell_type": "markdown",
   "metadata": {},
   "source": [
    "### Reverse the string “hello world” with '-'"
   ]
  },
  {
   "cell_type": "code",
   "execution_count": 10,
   "metadata": {},
   "outputs": [
    {
     "data": {
      "text/plain": [
       "'d-l-r-o-w- -o-l-l-e-h'"
      ]
     },
     "execution_count": 10,
     "metadata": {},
     "output_type": "execute_result"
    }
   ],
   "source": [
    "'-'.join(reversed(\"hello world\"))"
   ]
  },
  {
   "cell_type": "markdown",
   "metadata": {},
   "source": [
    "### Uppercase first and last character of a string 'tiger'"
   ]
  },
  {
   "cell_type": "code",
   "execution_count": 11,
   "metadata": {},
   "outputs": [
    {
     "data": {
      "text/plain": [
       "'TigeR'"
      ]
     },
     "execution_count": 11,
     "metadata": {},
     "output_type": "execute_result"
    }
   ],
   "source": [
    "animal = 'tiger'\n",
    "animal[0].upper() + animal[1:-1] + animal[-1].upper()"
   ]
  },
  {
   "cell_type": "markdown",
   "metadata": {},
   "source": [
    "### splits a string on line breaks.\n",
    "sentence = \"It was a stormy night\\nThe house creeked\\nThe wind blew.\""
   ]
  },
  {
   "cell_type": "code",
   "execution_count": 12,
   "metadata": {},
   "outputs": [
    {
     "data": {
      "text/plain": [
       "['It was a stormy night', 'The house creeked', 'The wind blew.']"
      ]
     },
     "execution_count": 12,
     "metadata": {},
     "output_type": "execute_result"
    }
   ],
   "source": [
    "sentence = \"It was a stormy night\\nThe house creeked\\nThe wind blew.\"\n",
    "sentence.split('\\n')"
   ]
  },
  {
   "cell_type": "code",
   "execution_count": 13,
   "metadata": {},
   "outputs": [
    {
     "data": {
      "text/plain": [
       "['It was a stormy night', 'The house creeked', 'The wind blew.']"
      ]
     },
     "execution_count": 13,
     "metadata": {},
     "output_type": "execute_result"
    }
   ],
   "source": [
    "sentence = \"It was a stormy night\\nThe house creeked\\nThe wind blew.\"\n",
    "sentence.splitlines()"
   ]
  },
  {
   "cell_type": "markdown",
   "metadata": {},
   "source": [
    "### Slicing a string takes up to 3 arguments, string[start_index:end_index:step]\n",
    "# output will be\n",
    "#I like\n",
    "#to eat\n",
    "#Ilk oetape\n",
    "string = 'I like to eat apples'\n"
   ]
  },
  {
   "cell_type": "code",
   "execution_count": 14,
   "metadata": {},
   "outputs": [
    {
     "name": "stdout",
     "output_type": "stream",
     "text": [
      "I like\n",
      "to eat\n",
      "Ilk oetape\n"
     ]
    }
   ],
   "source": [
    "string = 'I like to eat apples'\n",
    "print(string[:6])\n",
    "print(string[7:13])\n",
    "print(string[0:-1:2]) #every 2nd character"
   ]
  },
  {
   "cell_type": "markdown",
   "metadata": {},
   "source": [
    "### Replace all instances of a substring in a string\n",
    "sentence = 'Sally sells sea shells by the sea shore'"
   ]
  },
  {
   "cell_type": "code",
   "execution_count": 15,
   "metadata": {},
   "outputs": [
    {
     "data": {
      "text/plain": [
       "'Sally sells mountain shells by the mountain shore'"
      ]
     },
     "execution_count": 15,
     "metadata": {},
     "output_type": "execute_result"
    }
   ],
   "source": [
    "sentence = 'Sally sells sea shells by the sea shore'\n",
    "sentence.replace('sea', 'mountain')"
   ]
  },
  {
   "cell_type": "markdown",
   "metadata": {},
   "source": [
    "### Return the minimum character in a string 'Strings'"
   ]
  },
  {
   "cell_type": "code",
   "execution_count": 16,
   "metadata": {},
   "outputs": [
    {
     "data": {
      "text/plain": [
       "'g'"
      ]
     },
     "execution_count": 16,
     "metadata": {},
     "output_type": "execute_result"
    }
   ],
   "source": [
    "#Capitalized characters and characters earlier in the alphabet have lower indexes. \n",
    "# min() will return the character with the lowest index.\n",
    "min('strings')"
   ]
  },
  {
   "cell_type": "markdown",
   "metadata": {},
   "source": [
    "### handle whitespace\n",
    "string = '  string of whitespace    '"
   ]
  },
  {
   "cell_type": "code",
   "execution_count": 17,
   "metadata": {},
   "outputs": [
    {
     "name": "stdout",
     "output_type": "stream",
     "text": [
      "string of whitespace    \n",
      "  string of whitespace\n",
      "string of whitespace\n"
     ]
    }
   ],
   "source": [
    "string = '  string of whitespace    '\n",
    "print(string.lstrip())\n",
    "print(string.rstrip())\n",
    "print(string.strip())"
   ]
  },
  {
   "cell_type": "markdown",
   "metadata": {},
   "source": [
    "### Check 'New York' start with New and end with N"
   ]
  },
  {
   "cell_type": "code",
   "execution_count": 18,
   "metadata": {},
   "outputs": [
    {
     "data": {
      "text/plain": [
       "False"
      ]
     },
     "execution_count": 18,
     "metadata": {},
     "output_type": "execute_result"
    }
   ],
   "source": [
    "city = 'New York'\n",
    "city.startswith('New') \n",
    "city.endswith('N')"
   ]
  },
  {
   "cell_type": "markdown",
   "metadata": {},
   "source": [
    "### Where in the text is the last occurrence of the letter \"e\"?\n",
    "txt = \"Hello, welcome to my world.\""
   ]
  },
  {
   "cell_type": "code",
   "execution_count": 19,
   "metadata": {},
   "outputs": [
    {
     "name": "stdout",
     "output_type": "stream",
     "text": [
      "13\n"
     ]
    }
   ],
   "source": [
    "txt = \"Hello, welcome to my world.\"\n",
    "x = txt.rindex(\"e\")\n",
    "\n",
    "print(x)"
   ]
  },
  {
   "cell_type": "markdown",
   "metadata": {},
   "source": [
    "center()\n",
    "\n",
    "This function center aligns the string according to the width specified and fills remaining space of line with blank space if ‘ fillchr ‘ argument is not passed."
   ]
  },
  {
   "cell_type": "markdown",
   "metadata": {},
   "source": [
    "### Printing the center aligned string \"I am learning python\" and also with fillchr"
   ]
  },
  {
   "cell_type": "code",
   "execution_count": 20,
   "metadata": {},
   "outputs": [
    {
     "name": "stdout",
     "output_type": "stream",
     "text": [
      "The original string is : \n",
      " I am learning python \n",
      "\n",
      "The center aligned string is : \n",
      "          I am learning python           \n",
      "\n",
      "Center aligned string with fillchr: \n",
      "##########I am learning python##########\n"
     ]
    }
   ],
   "source": [
    "cstr = \"I am learning python\"\n",
    "  \n",
    "# Printing the original string\n",
    "print (\"The original string is : \\n\", cstr, \"\\n\")\n",
    "  \n",
    "# Printing the center aligned string \n",
    "print (\"The center aligned string is : \")\n",
    "print (cstr.center(40), \"\\n\")\n",
    "  \n",
    "# Printing the center aligned \n",
    "# string with fillchr\n",
    "print (\"Center aligned string with fillchr: \")\n",
    "print (cstr.center(40, '#'))"
   ]
  },
  {
   "cell_type": "markdown",
   "metadata": {},
   "source": [
    "ljust()\n",
    "\n",
    "This function left aligns the string according to the width specified and fills remaining space of line with blank space if ‘ fillchr ‘ argument is not passed."
   ]
  },
  {
   "cell_type": "markdown",
   "metadata": {},
   "source": [
    "### Printing the left aligned  string \"I am learning python\" and also with \"-\" padding "
   ]
  },
  {
   "cell_type": "code",
   "execution_count": 21,
   "metadata": {},
   "outputs": [
    {
     "name": "stdout",
     "output_type": "stream",
     "text": [
      "The original string is : \n",
      " I am learning python \n",
      "\n",
      "The left aligned string is : \n",
      "I am learning python--------------------\n"
     ]
    }
   ],
   "source": [
    "lstr = \"I am learning python\"\n",
    "  \n",
    "# Printing the original string\n",
    "print (\"The original string is : \\n\", lstr, \"\\n\")\n",
    "  \n",
    "# Printing the left aligned \n",
    "# string with \"-\" padding \n",
    "print (\"The left aligned string is : \")\n",
    "print (lstr.ljust(40, '-'))"
   ]
  },
  {
   "cell_type": "markdown",
   "metadata": {},
   "source": [
    "rjust()\n",
    "\n",
    "This function right aligns the string according to the width specified and fills remaining space of line with blank space if ‘ fillchr ‘ argument is not passed."
   ]
  },
  {
   "cell_type": "markdown",
   "metadata": {},
   "source": [
    "### Printing the right aligned  string \"I am learning python\" and also with \"-\" padding "
   ]
  },
  {
   "cell_type": "code",
   "execution_count": 22,
   "metadata": {},
   "outputs": [
    {
     "name": "stdout",
     "output_type": "stream",
     "text": [
      "The original string is : \n",
      " I am learning python \n",
      "\n",
      "The right aligned string is : \n",
      "--------------------I am learning python\n"
     ]
    }
   ],
   "source": [
    "rstr = \"I am learning python\"\n",
    "  \n",
    "# Printing the original string\n",
    "print (\"The original string is : \\n\", rstr, \"\\n\")\n",
    "  \n",
    "# Printing the right aligned string\n",
    "# with \"-\" padding \n",
    "print (\"The right aligned string is : \")\n",
    "print (rstr.rjust(40, '-'))"
   ]
  },
  {
   "cell_type": "markdown",
   "metadata": {},
   "source": [
    "### Write a program to find the last position of a substring “Emma” in a given string \"Emma is a data scientist who knows Python. Emma works at google.\""
   ]
  },
  {
   "cell_type": "code",
   "execution_count": 23,
   "metadata": {},
   "outputs": [
    {
     "name": "stdout",
     "output_type": "stream",
     "text": [
      "Original String is: Emma is a data scientist who knows Python. Emma works at google.\n",
      "Last occurrence of Emma starts at index: 43\n"
     ]
    }
   ],
   "source": [
    "#try your code here\n",
    "str1 = \"Emma is a data scientist who knows Python. Emma works at google.\"\n",
    "print(\"Original String is:\", str1)\n",
    "\n",
    "index = str1.rfind(\"Emma\")\n",
    "print(\"Last occurrence of Emma starts at index:\", index)"
   ]
  },
  {
   "cell_type": "markdown",
   "metadata": {},
   "source": [
    "### Write a program to find words with both alphabets and numbers from an input string \"Emma25 is Data scientist50 and AI Expert\""
   ]
  },
  {
   "cell_type": "code",
   "execution_count": 24,
   "metadata": {},
   "outputs": [
    {
     "name": "stdout",
     "output_type": "stream",
     "text": [
      "The original string is : Emma25 is Data scientist50 and AI Expert\n",
      "Displaying words with alphabets and numbers :\n",
      "Emma25\n",
      "scientist50\n"
     ]
    }
   ],
   "source": [
    "#try your code here\n",
    "str1 = \"Emma25 is Data scientist50 and AI Expert\"\n",
    "print(\"The original string is : \" + str1)\n",
    "\n",
    "temp = str1.split()\n",
    "\n",
    "# Words with both alphabets and numbers\n",
    "# isdigit() for numbers + isalpha() for alphabets\n",
    "# use any() to check each character\n",
    "\n",
    "print(\"Displaying words with alphabets and numbers :\")\n",
    "for item in temp:\n",
    "    if any(char.isalpha() for char in item) and any(char.isdigit() for char in item):\n",
    "        print(item)    "
   ]
  }
 ],
 "metadata": {
  "interpreter": {
   "hash": "68876b6383b62dc997f1e2adc12eb301a61958dc7fa62c10c14261960fd63dae"
  },
  "kernelspec": {
   "display_name": "Python 3 (ipykernel)",
   "language": "python",
   "name": "python3"
  },
  "language_info": {
   "codemirror_mode": {
    "name": "ipython",
    "version": 3
   },
   "file_extension": ".py",
   "mimetype": "text/x-python",
   "name": "python",
   "nbconvert_exporter": "python",
   "pygments_lexer": "ipython3",
   "version": "3.8.3"
  }
 },
 "nbformat": 4,
 "nbformat_minor": 2
}
