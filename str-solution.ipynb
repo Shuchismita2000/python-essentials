{
 "cells": [
  {
   "cell_type": "markdown",
   "metadata": {},
   "source": [
    "![](https://t3.ftcdn.net/jpg/03/87/36/48/360_F_387364834_JwkVeZ7AiyDjxcCqDS7jZ1JeYFSHAUkK.jpg)"
   ]
  },
  {
   "cell_type": "markdown",
   "metadata": {},
   "source": [
    "### Length of you full name"
   ]
  },
  {
   "cell_type": "code",
   "execution_count": 1,
   "metadata": {},
   "outputs": [
    {
     "data": {
      "text/plain": [
       "19"
      ]
     },
     "execution_count": 1,
     "metadata": {},
     "output_type": "execute_result"
    }
   ],
   "source": [
    "#try your code here\n",
    "name='Shuchismita Mallick'\n",
    "len(name)"
   ]
  },
  {
   "cell_type": "markdown",
   "metadata": {},
   "source": [
    "### Find your first name and last name"
   ]
  },
  {
   "cell_type": "code",
   "execution_count": 2,
   "metadata": {},
   "outputs": [
    {
     "data": {
      "text/plain": [
       "['Shuchismita', 'Mallick']"
      ]
     },
     "execution_count": 2,
     "metadata": {},
     "output_type": "execute_result"
    }
   ],
   "source": [
    "#try your code here\n",
    "name.split(' ')"
   ]
  },
  {
   "cell_type": "code",
   "execution_count": 3,
   "metadata": {},
   "outputs": [
    {
     "name": "stdout",
     "output_type": "stream",
     "text": [
      "Shuchismita\n",
      "Mallick\n"
     ]
    }
   ],
   "source": [
    "x=name.split(' ')\n",
    "first_name=x[0]\n",
    "last_name=x[1]\n",
    "print(first_name)\n",
    "print(last_name)"
   ]
  },
  {
   "cell_type": "markdown",
   "metadata": {},
   "source": [
    "### Find consonants of your first name and vowels in last name"
   ]
  },
  {
   "cell_type": "code",
   "execution_count": 12,
   "metadata": {},
   "outputs": [
    {
     "name": "stdout",
     "output_type": "stream",
     "text": [
      "s\n",
      "h\n",
      "c\n",
      "h\n",
      "s\n",
      "m\n",
      "t\n",
      "m\n",
      "l\n",
      "l\n",
      "c\n",
      "k\n",
      "12\n"
     ]
    }
   ],
   "source": [
    "#try your code here\n",
    "consonants = \"bcdfghjklmnpqrstvwxyz\"\n",
    "count=0\n",
    "for x in first_name.lower():\n",
    "    if x in consonants:\n",
    "        print(x)\n",
    "        count += 1\n",
    "print('Total consonants:')"
   ]
  },
  {
   "cell_type": "code",
   "execution_count": 13,
   "metadata": {},
   "outputs": [],
   "source": [
    "vowels = \"aeiou\"\n",
    "count=0\n",
    "res=[]\n",
    "for x in last_name:\n",
    "    if x in vowels:\n",
    "        res.append(x)\n",
    "        count += 1"
   ]
  },
  {
   "cell_type": "code",
   "execution_count": 7,
   "metadata": {},
   "outputs": [
    {
     "name": "stdout",
     "output_type": "stream",
     "text": [
      "6\n",
      "['u', 'i', 'i', 'a', 'a', 'i']\n"
     ]
    }
   ],
   "source": [
    "print(count)\n",
    "print(res)"
   ]
  },
  {
   "cell_type": "markdown",
   "metadata": {},
   "source": [
    "### First letter of each word in the string 'Hello everyone ! Welcome to our python session'"
   ]
  },
  {
   "cell_type": "code",
   "execution_count": 8,
   "metadata": {},
   "outputs": [
    {
     "name": "stdout",
     "output_type": "stream",
     "text": [
      "H\n",
      "e\n",
      "!\n",
      "W\n",
      "t\n",
      "o\n",
      "p\n",
      "s\n"
     ]
    }
   ],
   "source": [
    "#try your code here\n",
    "text='Hello everyone ! Welcome to our python session'\n",
    "for s in text.split():\n",
    "    print(s[0])"
   ]
  },
  {
   "cell_type": "code",
   "execution_count": 9,
   "metadata": {},
   "outputs": [
    {
     "name": "stdout",
     "output_type": "stream",
     "text": [
      "H\n",
      "e\n",
      "!\n",
      "W\n",
      "t\n",
      "o\n",
      "p\n",
      "s\n"
     ]
    }
   ],
   "source": [
    "text='Hello everyone ! Welcome to our python session'\n",
    "for s in text.split():\n",
    "    print(s[0])"
   ]
  },
  {
   "cell_type": "markdown",
   "metadata": {},
   "source": [
    "### Write a program to find the last position of a substring “Emma” in a given string \"Emma is a data scientist who knows Python. Emma works at google.\""
   ]
  },
  {
   "cell_type": "code",
   "execution_count": 10,
   "metadata": {},
   "outputs": [
    {
     "name": "stdout",
     "output_type": "stream",
     "text": [
      "Original String is: Emma is a data scientist who knows Python. Emma works at google.\n",
      "Last occurrence of Emma starts at index: 43\n"
     ]
    }
   ],
   "source": [
    "#try your code here\n",
    "str1 = \"Emma is a data scientist who knows Python. Emma works at google.\"\n",
    "print(\"Original String is:\", str1)\n",
    "\n",
    "index = str1.rfind(\"Emma\")\n",
    "print(\"Last occurrence of Emma starts at index:\", index)"
   ]
  },
  {
   "cell_type": "markdown",
   "metadata": {},
   "source": [
    "### Write a program to find words with both alphabets and numbers from an input string \"Emma25 is Data scientist50 and AI Expert\""
   ]
  },
  {
   "cell_type": "code",
   "execution_count": 11,
   "metadata": {},
   "outputs": [
    {
     "name": "stdout",
     "output_type": "stream",
     "text": [
      "The original string is : Emma25 is Data scientist50 and AI Expert\n",
      "Displaying words with alphabets and numbers :\n",
      "Emma25\n",
      "scientist50\n"
     ]
    }
   ],
   "source": [
    "#try your code here\n",
    "str1 = \"Emma25 is Data scientist50 and AI Expert\"\n",
    "print(\"The original string is : \" + str1)\n",
    "\n",
    "temp = str1.split()\n",
    "\n",
    "# Words with both alphabets and numbers\n",
    "# isdigit() for numbers + isalpha() for alphabets\n",
    "# use any() to check each character\n",
    "\n",
    "print(\"Displaying words with alphabets and numbers :\")\n",
    "for item in temp:\n",
    "    if any(char.isalpha() for char in item) and any(char.isdigit() for char in item):\n",
    "        print(item)    "
   ]
  },
  {
   "cell_type": "code",
   "execution_count": null,
   "metadata": {},
   "outputs": [],
   "source": []
  }
 ],
 "metadata": {
  "interpreter": {
   "hash": "68876b6383b62dc997f1e2adc12eb301a61958dc7fa62c10c14261960fd63dae"
  },
  "kernelspec": {
   "display_name": "Python 3 (ipykernel)",
   "language": "python",
   "name": "python3"
  },
  "language_info": {
   "codemirror_mode": {
    "name": "ipython",
    "version": 3
   },
   "file_extension": ".py",
   "mimetype": "text/x-python",
   "name": "python",
   "nbconvert_exporter": "python",
   "pygments_lexer": "ipython3",
   "version": "3.8.3"
  }
 },
 "nbformat": 4,
 "nbformat_minor": 2
}
