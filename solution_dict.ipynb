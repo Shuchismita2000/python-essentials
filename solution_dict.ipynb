{
  "cells": [
    {
      "cell_type": "markdown",
      "metadata": {
        "id": "NeJudsvqUA8r"
      },
      "source": [
        "## Problems on Dictionary"
      ]
    },
    {
      "cell_type": "markdown",
      "metadata": {
        "id": "kHYWpA82UA8-"
      },
      "source": [
        "### Write a Python script to concatenate following dictionaries to create a new one. \n",
        "\n",
        "Sample Dictionary :\n",
        "\n",
        "dic1={1:10, 2:20}\n",
        "\n",
        "dic2={3:30, 4:40}\n",
        "\n",
        "dic3={5:50,6:60}\n",
        "\n",
        "Expected Result : {1: 10, 2: 20, 3: 30, 4: 40, 5: 50, 6: 60}"
      ]
    },
    {
      "cell_type": "code",
      "execution_count": null,
      "metadata": {
        "id": "u-orUzO_UA9D"
      },
      "outputs": [],
      "source": [
        "dic1={1:10, 2:20}\n",
        "dic2={3:30, 4:40}\n",
        "dic3={5:50,6:60}\n",
        "dic4 = {}\n",
        "for d in (dic1, dic2, dic3): \n",
        "    dic4.update(d)\n",
        "print(dic4)"
      ]
    },
    {
      "cell_type": "markdown",
      "metadata": {
        "id": "uJvIGgzzUA9J"
      },
      "source": [
        "### Write a Python program to sum all the items in a dictionary\n",
        "\n",
        "Input : my_dict = {'data1':100,'data2':-54,'data3':247}\n",
        "\n",
        "output: 293"
      ]
    },
    {
      "cell_type": "code",
      "execution_count": null,
      "metadata": {
        "id": "FTUmOUhxUA9M"
      },
      "outputs": [],
      "source": [
        "my_dict = {'data1':100,'data2':-54,'data3':247}\n",
        "print(sum(my_dict.values()))"
      ]
    },
    {
      "cell_type": "markdown",
      "metadata": {
        "id": "RktLMrklUA9O"
      },
      "source": [
        "### Write a Python program to remove a key from a dictionary.\n",
        "\n",
        "d1 = {'a':1,'b':2,'c':3,'d':4}"
      ]
    },
    {
      "cell_type": "code",
      "execution_count": null,
      "metadata": {
        "id": "4Ii572PvUA9Q",
        "outputId": "5f940463-6164-4dd9-a802-165a548ca834"
      },
      "outputs": [
        {
          "name": "stdout",
          "output_type": "stream",
          "text": [
            "Counter({'a': 400, 'b': 400, 'd': 400, 'c': 300})\n"
          ]
        }
      ],
      "source": [
        "d1 = {'a':1,'b':2,'c':3,'d':4}\n",
        "print(d1)\n",
        "if 'a' in d1: \n",
        "    del d1['a']\n",
        "print(d1)"
      ]
    },
    {
      "cell_type": "markdown",
      "metadata": {
        "id": "aZMXrsORUA9X"
      },
      "source": [
        "### Write a Python program to map two lists into a dictionary.\n",
        "\n",
        "keys = ['red', 'green', 'blue']\n",
        "\n",
        "values = ['#FF0000','#008000', '#0000FF']"
      ]
    },
    {
      "cell_type": "code",
      "execution_count": null,
      "metadata": {
        "id": "lLnM4FPUUA9a"
      },
      "outputs": [],
      "source": [
        "keys = ['red', 'green', 'blue']\n",
        "values = ['#FF0000','#008000', '#0000FF']\n",
        "color_dictionary = {keys[i]:values[i] for i in range(len(keys))}\n",
        "print(color_dictionary)"
      ]
    },
    {
      "cell_type": "code",
      "execution_count": null,
      "metadata": {
        "id": "0BUFZs0WUA9d"
      },
      "outputs": [],
      "source": [
        "keys = ['red', 'green', 'blue']\n",
        "values = ['#FF0000','#008000', '#0000FF']\n",
        "color_dictionary = dict(zip(keys, values))\n",
        "print(color_dictionary)"
      ]
    },
    {
      "cell_type": "markdown",
      "source": [
        "### Write a program to rename a key city to a location in the following dictionary.\n",
        "Given:\n",
        "\n",
        "sample_dict = { \"name\": \"Kelly\", \"age\":25, \"salary\": 8000, \"city\": \"New york\" }\n",
        "\n",
        "Expected output:\n",
        "\n",
        "{'name': 'Kelly', 'age': 25, 'salary': 8000, 'location': 'New york'}\n",
        "\n"
      ],
      "metadata": {
        "id": "K4omfBwEUCvY"
      }
    },
    {
      "cell_type": "code",
      "execution_count": null,
      "metadata": {
        "id": "lccxPzlgUA9f"
      },
      "outputs": [],
      "source": [
        "sample_dict = {\n",
        "    \"name\": \"Kelly\",\n",
        "    \"age\": 25,\n",
        "    \"salary\": 8000,\n",
        "    \"city\": \"New york\"\n",
        "}\n",
        "\n",
        "sample_dict['location'] = sample_dict.pop('city')\n",
        "print(sample_dict)"
      ]
    },
    {
      "cell_type": "markdown",
      "source": [
        "### Get the key of a minimum value from the following dictionary\n",
        "\n",
        "sample_dict = {\n",
        "  'Physics': 82,\n",
        "  'Math': 65,\n",
        "  'history': 75\n",
        "}\n",
        "\n",
        "Expected output:\n",
        "\n",
        "Math"
      ],
      "metadata": {
        "id": "D5fzfuBjUYgu"
      }
    },
    {
      "cell_type": "code",
      "source": [
        "sample_dict = {\n",
        "    'Physics': 82,\n",
        "    'Math': 65,\n",
        "    'history': 75\n",
        "}\n",
        "print(min(sample_dict, key=sample_dict.get))"
      ],
      "metadata": {
        "id": "ObiYIGt3UcT0"
      },
      "execution_count": null,
      "outputs": []
    },
    {
      "cell_type": "markdown",
      "source": [
        "### Write a Python program to iterate over dictionaries using for loops.\n",
        "input:\n",
        "{'Red': 1, 'Green': 2, 'Blue': 3} \n",
        "\n",
        "output:\n",
        "\n",
        "Red corresponds to  1\n",
        "\n",
        "Green corresponds to  2\n",
        "\n",
        "Blue corresponds to  3"
      ],
      "metadata": {
        "id": "_ZbKb_UOTqvi"
      }
    },
    {
      "cell_type": "code",
      "source": [
        "d = {'Red': 1, 'Green': 2, 'Blue': 3} \n",
        "for color_key, value in d.items():\n",
        "     print(color_key, 'corresponds to ', d[color_key]) "
      ],
      "metadata": {
        "id": "gIlr7JYfTq0_"
      },
      "execution_count": null,
      "outputs": []
    },
    {
      "cell_type": "markdown",
      "source": [
        "### Write a Python program to get the key, value and item in a dictionary.\n",
        "\n",
        "dict_num = {1: 10, 2: 20, 3: 30, 4: 40, 5: 50, 6: 60}"
      ],
      "metadata": {
        "id": "deF5uQ7gW_u4"
      }
    },
    {
      "cell_type": "code",
      "source": [
        "dict_num = {1: 10, 2: 20, 3: 30, 4: 40, 5: 50, 6: 60}\n",
        "for (key, value) in enumerate(dict_num.items(), 1):\n",
        "    print(key,'   ',value,'    ')"
      ],
      "metadata": {
        "colab": {
          "base_uri": "https://localhost:8080/"
        },
        "id": "ZWpzn-NfXAtm",
        "outputId": "0a8e2967-edcd-43ff-95cf-65e6c1336b31"
      },
      "execution_count": null,
      "outputs": [
        {
          "output_type": "stream",
          "name": "stdout",
          "text": [
            "1     (1, 10)     \n",
            "2     (2, 20)     \n",
            "3     (3, 30)     \n",
            "4     (4, 40)     \n",
            "5     (5, 50)     \n",
            "6     (6, 60)     \n"
          ]
        }
      ]
    }
  ],
  "metadata": {
    "interpreter": {
      "hash": "68876b6383b62dc997f1e2adc12eb301a61958dc7fa62c10c14261960fd63dae"
    },
    "kernelspec": {
      "display_name": "Python 3.7.9 ('jupyterenv': venv)",
      "language": "python",
      "name": "python3"
    },
    "language_info": {
      "codemirror_mode": {
        "name": "ipython",
        "version": 3
      },
      "file_extension": ".py",
      "mimetype": "text/x-python",
      "name": "python",
      "nbconvert_exporter": "python",
      "pygments_lexer": "ipython3",
      "version": "3.7.9"
    },
    "orig_nbformat": 4,
    "colab": {
      "name": "solution_dict.ipynb",
      "provenance": []
    }
  },
  "nbformat": 4,
  "nbformat_minor": 0
}