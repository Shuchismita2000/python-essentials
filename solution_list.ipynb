{
  "cells": [
    {
      "cell_type": "markdown",
      "metadata": {
        "id": "beby3w7kCMoE"
      },
      "source": [
        "## Problems On List"
      ]
    },
    {
      "cell_type": "markdown",
      "source": [
        "### Use a loop to display elements from a given list present at odd index positions\n",
        "my_list = [10, 20, 30, 40, 50, 60, 70, 80, 90, 100]"
      ],
      "metadata": {
        "id": "Fwlj7SyYP4WH"
      }
    },
    {
      "cell_type": "code",
      "source": [
        "# With For + Range\n",
        "for i in range(20, 101, 20) :\n",
        "    print(i, end=\" \")"
      ],
      "metadata": {
        "id": "nVzHNaymQMGY",
        "outputId": "61a6ee9e-35d0-4bf5-a573-5769c9b63d3a",
        "colab": {
          "base_uri": "https://localhost:8080/"
        }
      },
      "execution_count": null,
      "outputs": [
        {
          "output_type": "stream",
          "name": "stdout",
          "text": [
            "20 40 60 80 100 "
          ]
        }
      ]
    },
    {
      "cell_type": "code",
      "source": [
        "my_list = [10, 20, 30, 40, 50, 60, 70, 80, 90, 100]\n",
        "# stat from index 1 with step 2( means 1, 3, 5, an so on)\n",
        "for i in my_list[1::2]:\n",
        "    print(i, end=\" \")"
      ],
      "metadata": {
        "colab": {
          "base_uri": "https://localhost:8080/"
        },
        "id": "XRkWXEV5P4b4",
        "outputId": "1422679f-c29a-411f-d389-b9e77a64a7f4"
      },
      "execution_count": null,
      "outputs": [
        {
          "output_type": "stream",
          "name": "stdout",
          "text": [
            "20 40 60 80 100 "
          ]
        }
      ]
    },
    {
      "cell_type": "code",
      "execution_count": null,
      "metadata": {
        "id": "44a8roG8CMoJ"
      },
      "outputs": [],
      "source": [
        "list1=[20,36,61,46,28,36,61,46,49,70,38,7,49,70,19,28,36,61,46,7,19,28,49,70,36,61,46,70,38,9,43,7,49,70,19,28,4,44,64,19,83,44,36,61,46,28,49,70]"
      ]
    },
    {
      "cell_type": "markdown",
      "metadata": {
        "id": "suaGFVybCMoK"
      },
      "source": [
        "## Find distinct digits in list"
      ]
    },
    {
      "cell_type": "code",
      "execution_count": null,
      "metadata": {
        "colab": {
          "base_uri": "https://localhost:8080/"
        },
        "id": "4Qo-Y-uMCMoK",
        "outputId": "1b5cca5e-b86f-4c17-beb6-7a7028152a97"
      },
      "outputs": [
        {
          "output_type": "execute_result",
          "data": {
            "text/plain": [
              "[20, 36, 61, 46, 28, 49, 70, 38, 7, 19, 9, 43, 4, 44, 64, 83]"
            ]
          },
          "metadata": {},
          "execution_count": 2
        }
      ],
      "source": [
        "unique_list = []\n",
        "# traverse for all elements\n",
        "for x in list1:\n",
        "    # check if exists in unique_list or not\n",
        "    if x not in unique_list:\n",
        "        unique_list.append(x)\n",
        "# print list\n",
        "unique_list"
      ]
    },
    {
      "cell_type": "markdown",
      "metadata": {
        "id": "xdVM-gABCMoL"
      },
      "source": [
        "## Find the number of times the specified digit appears in the list."
      ]
    },
    {
      "cell_type": "code",
      "execution_count": null,
      "metadata": {
        "colab": {
          "base_uri": "https://localhost:8080/"
        },
        "id": "QlX6ugJwCMoM",
        "outputId": "d9a95b98-6d52-4692-b70c-b9252a0c4c5c"
      },
      "outputs": [
        {
          "output_type": "stream",
          "name": "stdout",
          "text": [
            "Count of 20: 1\n",
            "Count of 36: 5\n",
            "Count of 61: 5\n",
            "Count of 46: 5\n",
            "Count of 28: 5\n",
            "Count of 49: 5\n",
            "Count of 70: 6\n",
            "Count of 38: 2\n",
            "Count of 7: 3\n",
            "Count of 19: 4\n",
            "Count of 9: 1\n",
            "Count of 43: 1\n",
            "Count of 4: 1\n",
            "Count of 44: 2\n",
            "Count of 64: 1\n",
            "Count of 83: 1\n"
          ]
        }
      ],
      "source": [
        "for i in unique_list:\n",
        "    count = list1.count(i)\n",
        "    print('Count of '+str(i)+':', count)"
      ]
    },
    {
      "cell_type": "markdown",
      "metadata": {
        "id": "NmPsZ4mPCMoM"
      },
      "source": [
        "## Sum of those distinct digits in the list"
      ]
    },
    {
      "cell_type": "code",
      "execution_count": null,
      "metadata": {
        "colab": {
          "base_uri": "https://localhost:8080/"
        },
        "id": "cNsmk2WRCMoN",
        "outputId": "19b83cab-6613-427d-8512-fb04cf0e6815"
      },
      "outputs": [
        {
          "output_type": "stream",
          "name": "stdout",
          "text": [
            "621\n"
          ]
        }
      ],
      "source": [
        "sum = 0\n",
        "for x in unique_list:\n",
        "    sum += x\n",
        "print(sum)"
      ]
    },
    {
      "cell_type": "markdown",
      "metadata": {
        "id": "xamw2wmKCMoO"
      },
      "source": [
        "## Find max and min value of the list  "
      ]
    },
    {
      "cell_type": "code",
      "execution_count": null,
      "metadata": {
        "colab": {
          "base_uri": "https://localhost:8080/"
        },
        "id": "LKaUtnJGCMoO",
        "outputId": "a673c9d8-64f2-4c78-b5ad-36650dd986f1"
      },
      "outputs": [
        {
          "output_type": "stream",
          "name": "stdout",
          "text": [
            "83\n",
            "83\n",
            "4\n"
          ]
        }
      ],
      "source": [
        "#MAX VALUE\n",
        "unique_list.sort()\n",
        "print(unique_list[len(unique_list)-1])\n",
        "print(unique_list[-1])\n",
        "#MIN VALUE\n",
        "unique_list.sort()\n",
        "print(unique_list[0])"
      ]
    },
    {
      "cell_type": "code",
      "execution_count": null,
      "metadata": {
        "colab": {
          "base_uri": "https://localhost:8080/"
        },
        "id": "rsb3rfhpCMoP",
        "outputId": "c8f54090-f08c-42f7-f8d3-5cb202940707"
      },
      "outputs": [
        {
          "output_type": "stream",
          "name": "stdout",
          "text": [
            "83\n",
            "4\n",
            "4\n"
          ]
        }
      ],
      "source": [
        "#MAX VALUE\n",
        "unique_list.sort(reverse=True) # descending order\n",
        "print(unique_list[0])\n",
        "\n",
        "#MIN VALUE\n",
        "unique_list.sort(reverse=True)\n",
        "print(unique_list[len(unique_list)-1])\n",
        "print(unique_list[-1])"
      ]
    },
    {
      "cell_type": "markdown",
      "source": [
        "### Extract elements with Frequency greater than 2"
      ],
      "metadata": {
        "id": "RISa-X4bCR2k"
      }
    },
    {
      "cell_type": "code",
      "source": [
        "K = 2\n",
        "  \n",
        "res = [] \n",
        "for i in list1: \n",
        "      \n",
        "    # using count() to get count of elements\n",
        "    freq = list1.count(i) \n",
        "      \n",
        "    # checking if not already entered in results\n",
        "    if freq > K and i not in res: \n",
        "        res.append(i)\n",
        "print(res)"
      ],
      "metadata": {
        "colab": {
          "base_uri": "https://localhost:8080/"
        },
        "id": "8SJ3Mwl_CSah",
        "outputId": "9713ecd1-bbe3-42b0-f06f-0516097a7e5e"
      },
      "execution_count": null,
      "outputs": [
        {
          "output_type": "stream",
          "name": "stdout",
          "text": [
            "[36, 61, 46, 28, 49, 70, 7, 19]\n"
          ]
        }
      ]
    },
    {
      "cell_type": "markdown",
      "source": [
        "### Remove all occurrences of a specific item (61) from a list."
      ],
      "metadata": {
        "id": "RVF7uSEVCsGy"
      }
    },
    {
      "cell_type": "code",
      "source": [
        "item=61\n",
        "res = [i for i in list1 if i != item]\n",
        "res"
      ],
      "metadata": {
        "id": "7Vqwkk99CvUp"
      },
      "execution_count": null,
      "outputs": []
    },
    {
      "cell_type": "markdown",
      "source": [
        "\n",
        "Find all of the numbers from 1-1000 that have a 3 in them"
      ],
      "metadata": {
        "id": "PXT6KiP1MSzj"
      }
    },
    {
      "cell_type": "code",
      "source": [
        "three = [n for n in range(0,1000) if '3' in str(n)]\n",
        "print(three)"
      ],
      "metadata": {
        "colab": {
          "base_uri": "https://localhost:8080/"
        },
        "id": "vbg5s3B1MS6p",
        "outputId": "febfb6c6-d93f-4694-f4d3-3693358616e1"
      },
      "execution_count": null,
      "outputs": [
        {
          "output_type": "stream",
          "name": "stdout",
          "text": [
            "[3, 13, 23, 30, 31, 32, 33, 34, 35, 36, 37, 38, 39, 43, 53, 63, 73, 83, 93, 103, 113, 123, 130, 131, 132, 133, 134, 135, 136, 137, 138, 139, 143, 153, 163, 173, 183, 193, 203, 213, 223, 230, 231, 232, 233, 234, 235, 236, 237, 238, 239, 243, 253, 263, 273, 283, 293, 300, 301, 302, 303, 304, 305, 306, 307, 308, 309, 310, 311, 312, 313, 314, 315, 316, 317, 318, 319, 320, 321, 322, 323, 324, 325, 326, 327, 328, 329, 330, 331, 332, 333, 334, 335, 336, 337, 338, 339, 340, 341, 342, 343, 344, 345, 346, 347, 348, 349, 350, 351, 352, 353, 354, 355, 356, 357, 358, 359, 360, 361, 362, 363, 364, 365, 366, 367, 368, 369, 370, 371, 372, 373, 374, 375, 376, 377, 378, 379, 380, 381, 382, 383, 384, 385, 386, 387, 388, 389, 390, 391, 392, 393, 394, 395, 396, 397, 398, 399, 403, 413, 423, 430, 431, 432, 433, 434, 435, 436, 437, 438, 439, 443, 453, 463, 473, 483, 493, 503, 513, 523, 530, 531, 532, 533, 534, 535, 536, 537, 538, 539, 543, 553, 563, 573, 583, 593, 603, 613, 623, 630, 631, 632, 633, 634, 635, 636, 637, 638, 639, 643, 653, 663, 673, 683, 693, 703, 713, 723, 730, 731, 732, 733, 734, 735, 736, 737, 738, 739, 743, 753, 763, 773, 783, 793, 803, 813, 823, 830, 831, 832, 833, 834, 835, 836, 837, 838, 839, 843, 853, 863, 873, 883, 893, 903, 913, 923, 930, 931, 932, 933, 934, 935, 936, 937, 938, 939, 943, 953, 963, 973, 983, 993]\n"
          ]
        }
      ]
    },
    {
      "cell_type": "markdown",
      "source": [
        "Find all of the numbers from 1-1000 that are divisible by 7"
      ],
      "metadata": {
        "id": "nyDpVnDXMTBZ"
      }
    },
    {
      "cell_type": "code",
      "source": [
        "div7 = [n for n in range(1,1000) if n % 7 == 0] \n",
        "print(div7)"
      ],
      "metadata": {
        "colab": {
          "base_uri": "https://localhost:8080/"
        },
        "id": "4TS4x05uMTJQ",
        "outputId": "4585f331-7416-4bc8-fe95-7b5d8646585f"
      },
      "execution_count": null,
      "outputs": [
        {
          "output_type": "stream",
          "name": "stdout",
          "text": [
            "[7, 14, 21, 28, 35, 42, 49, 56, 63, 70, 77, 84, 91, 98, 105, 112, 119, 126, 133, 140, 147, 154, 161, 168, 175, 182, 189, 196, 203, 210, 217, 224, 231, 238, 245, 252, 259, 266, 273, 280, 287, 294, 301, 308, 315, 322, 329, 336, 343, 350, 357, 364, 371, 378, 385, 392, 399, 406, 413, 420, 427, 434, 441, 448, 455, 462, 469, 476, 483, 490, 497, 504, 511, 518, 525, 532, 539, 546, 553, 560, 567, 574, 581, 588, 595, 602, 609, 616, 623, 630, 637, 644, 651, 658, 665, 672, 679, 686, 693, 700, 707, 714, 721, 728, 735, 742, 749, 756, 763, 770, 777, 784, 791, 798, 805, 812, 819, 826, 833, 840, 847, 854, 861, 868, 875, 882, 889, 896, 903, 910, 917, 924, 931, 938, 945, 952, 959, 966, 973, 980, 987, 994]\n"
          ]
        }
      ]
    },
    {
      "cell_type": "markdown",
      "source": [
        "### Takes two lists and returns True if they have at least one common member\n",
        "input1: [1,2,3,4,5], [5,6,7,8,9]\n",
        "\n",
        "input2: [1,2,3,4,5], [6,7,8,9]"
      ],
      "metadata": {
        "id": "f4Vx1mBSMaEQ"
      }
    },
    {
      "cell_type": "code",
      "source": [
        "list1=[1,2,3,4,5]\n",
        "list2=[5,6,7,8,9]\n",
        "for x in list1:\n",
        "  if x in list2:\n",
        "    print(True)\n",
        "      "
      ],
      "metadata": {
        "colab": {
          "base_uri": "https://localhost:8080/"
        },
        "id": "AvlBhv_zMaOy",
        "outputId": "5f7b856d-8ebb-4974-a1d0-245ea7b0ea29"
      },
      "execution_count": null,
      "outputs": [
        {
          "output_type": "stream",
          "name": "stdout",
          "text": [
            "True\n"
          ]
        }
      ]
    },
    {
      "cell_type": "markdown",
      "metadata": {
        "id": "vWDZIycWCMoP"
      },
      "source": [
        "## swap two elements in a list\n",
        "Input : List = [23, 65, 19, 90], pos1 = 1, pos2 = 3\n",
        "Output : [19, 65, 23, 90]\n",
        "\n",
        "Input : List = [1, 2, 3, 4, 5], pos1 = 2, pos2 = 5\n",
        "Output : [1, 5, 3, 4, 2]"
      ]
    },
    {
      "cell_type": "code",
      "execution_count": null,
      "metadata": {
        "id": "CJpx4s2gCMoQ"
      },
      "outputs": [],
      "source": [
        "#try your code here\n",
        "# hints :: syntax:list[pos1], list[pos2] = list[pos2], list[pos1]"
      ]
    },
    {
      "cell_type": "code",
      "execution_count": null,
      "metadata": {
        "colab": {
          "base_uri": "https://localhost:8080/"
        },
        "id": "rGsqpSkICMoQ",
        "outputId": "aa9b9e0b-03bc-4d0e-d51e-12ccdad3fc63"
      },
      "outputs": [
        {
          "output_type": "execute_result",
          "data": {
            "text/plain": [
              "[19, 65, 23, 90]"
            ]
          },
          "metadata": {},
          "execution_count": 11
        }
      ],
      "source": [
        "List2 = [23, 65, 19, 90]\n",
        "pos1, pos2  = 1, 3\n",
        "List2[pos1-1], List2[pos2-1] = List2[pos2-1], List2[pos1-1]\n",
        "List2"
      ]
    },
    {
      "cell_type": "code",
      "execution_count": null,
      "metadata": {
        "colab": {
          "base_uri": "https://localhost:8080/"
        },
        "id": "1vVp5CRvCMoQ",
        "outputId": "12acd7d7-d245-4887-de40-5b6a43a1e323"
      },
      "outputs": [
        {
          "output_type": "execute_result",
          "data": {
            "text/plain": [
              "[1, 5, 3, 4, 2]"
            ]
          },
          "metadata": {},
          "execution_count": 12
        }
      ],
      "source": [
        "List3 = [1, 2, 3, 4, 5]\n",
        "pos1, pos2  = 2, 5\n",
        "List3[pos1-1], List3[pos2-1] = List3[pos2-1], List3[pos1-1]\n",
        "List3"
      ]
    },
    {
      "cell_type": "markdown",
      "source": [
        "### Concatenate two lists index-wise\n",
        "list1 = [\"M\", \"na\", \"i\", \"am\"]\n",
        "\n",
        "list2 = [\"y\", \"me\", \"s\", \"it\"]\n",
        "\n",
        "output will be ['My', 'name', 'is', 'amit']"
      ],
      "metadata": {
        "id": "bJr-4tu2DFWB"
      }
    },
    {
      "cell_type": "markdown",
      "source": [
        "https://www.w3schools.com/python/ref_func_zip.asp"
      ],
      "metadata": {
        "id": "-ej9Hm92DmGB"
      }
    },
    {
      "cell_type": "code",
      "source": [
        "list1 = [\"M\", \"na\", \"i\", \"Ke\"] \n",
        "list2 = [\"y\", \"me\", \"s\", \"lly\"]\n",
        "list3 = [i + j for i, j in zip(list1, list2)]\n",
        "print(list3)"
      ],
      "metadata": {
        "colab": {
          "base_uri": "https://localhost:8080/"
        },
        "id": "ctjj7BuKDFe5",
        "outputId": "e3518822-9eca-477e-f05f-a59602bc822e"
      },
      "execution_count": null,
      "outputs": [
        {
          "output_type": "stream",
          "name": "stdout",
          "text": [
            "['My', 'name', 'is', 'Kelly']\n"
          ]
        }
      ]
    },
    {
      "cell_type": "markdown",
      "source": [
        "### Concatenate two lists in the following order\n",
        "list1 = [\"Hello \", \"take \"]\n",
        "\n",
        "list2 = [\"Dear\", \"Sir\"]\n",
        "\n",
        "output will be ['Hello Dear', 'Hello Sir', 'take Dear', 'take Sir']"
      ],
      "metadata": {
        "id": "Ev5CgXyfDWFi"
      }
    },
    {
      "cell_type": "code",
      "source": [
        "list1 = [\"Hello \", \"take \"]\n",
        "list2 = [\"Dear\", \"Sir\"]\n",
        "\n",
        "res = [x + y for x in list1 for y in list2]\n",
        "print(res)"
      ],
      "metadata": {
        "colab": {
          "base_uri": "https://localhost:8080/"
        },
        "id": "gEuMLuXmDWLx",
        "outputId": "af053e4e-ad5a-4e96-d51b-630734d3719b"
      },
      "execution_count": null,
      "outputs": [
        {
          "output_type": "stream",
          "name": "stdout",
          "text": [
            "['Hello Dear', 'Hello Sir', 'take Dear', 'take Sir']\n"
          ]
        }
      ]
    },
    {
      "cell_type": "markdown",
      "source": [
        "###Remove empty strings from the list of strings\n",
        "['New York','London',' ','Mumbai','Berlin','Sydney','Beijing',' ','Singapore','Chicago','Paris','Johannesburg']"
      ],
      "metadata": {
        "id": "8Y63D41DD82K"
      }
    },
    {
      "cell_type": "code",
      "source": [
        "list1 = ['New York','London',' ','Mumbai','Berlin','Sydney','Beijing','Singapore','Chicago','Paris','Johannesburg']\n",
        "# remove None from list1 and convert result into list\n",
        "list1.remove(' ')\n",
        "print(list1)"
      ],
      "metadata": {
        "colab": {
          "base_uri": "https://localhost:8080/"
        },
        "id": "Gu41hTw4E_mS",
        "outputId": "bf0b8b87-aab4-402c-e68a-903feb93d0f5"
      },
      "execution_count": null,
      "outputs": [
        {
          "output_type": "stream",
          "name": "stdout",
          "text": [
            "['New York', 'London', 'Mumbai', 'Berlin', 'Sydney', 'Beijing', 'Singapore', 'Chicago', 'Paris', 'Johannesburg']\n"
          ]
        }
      ]
    },
    {
      "cell_type": "markdown",
      "source": [
        "### Replace list’s item with new value if found\n",
        "input: ['New York','London','Mumbai','Berlin','Sydney','Beijing','Singapore','Chicago','Paris','Johannesburg']\n",
        "\n",
        "output: ['New York','London','Chennai','Berlin','Sydney','Beijing','Singapore','Chicago','Paris','Johannesburg']"
      ],
      "metadata": {
        "id": "maC-tnw_HUY6"
      }
    },
    {
      "cell_type": "code",
      "source": [
        "input=['New York','London','Mumbai','Berlin','Sydney','Beijing','Singapore','Chicago','Paris','Johannesburg']\n",
        "x=input.index('Mumbai')\n",
        "input[x]='Chennai'\n",
        "print(input)"
      ],
      "metadata": {
        "colab": {
          "base_uri": "https://localhost:8080/"
        },
        "id": "MeuLCry4E-ZJ",
        "outputId": "f16636fe-e4ee-4a8c-d797-a34c7236fdc0"
      },
      "execution_count": null,
      "outputs": [
        {
          "output_type": "stream",
          "name": "stdout",
          "text": [
            "['New York', 'London', 'Chennai', 'Berlin', 'Sydney', 'Beijing', 'Singapore', 'Chicago', 'Paris', 'Johannesburg']\n"
          ]
        }
      ]
    }
  ],
  "metadata": {
    "interpreter": {
      "hash": "68876b6383b62dc997f1e2adc12eb301a61958dc7fa62c10c14261960fd63dae"
    },
    "kernelspec": {
      "display_name": "Python 3.7.9 ('jupyterenv': venv)",
      "language": "python",
      "name": "python3"
    },
    "language_info": {
      "codemirror_mode": {
        "name": "ipython",
        "version": 3
      },
      "file_extension": ".py",
      "mimetype": "text/x-python",
      "name": "python",
      "nbconvert_exporter": "python",
      "pygments_lexer": "ipython3",
      "version": "3.7.9"
    },
    "orig_nbformat": 4,
    "colab": {
      "name": "solution_list.ipynb",
      "provenance": []
    }
  },
  "nbformat": 4,
  "nbformat_minor": 0
}