{
  "cells": [
    {
      "cell_type": "code",
      "execution_count": null,
      "metadata": {
        "id": "8VdIme7dRv1G"
      },
      "outputs": [],
      "source": [
        "import numpy as np"
      ]
    },
    {
      "cell_type": "markdown",
      "metadata": {
        "id": "lSIwjbfzRv1M"
      },
      "source": [
        "### Write a NumPy program to generate five random numbers from the normal distribution.\n",
        "\n",
        "Expected Output:\n",
        "[-0.43262625 -1.10836787 1.80791413 0.69287463 -0.53742101]"
      ]
    },
    {
      "cell_type": "code",
      "execution_count": null,
      "metadata": {
        "colab": {
          "base_uri": "https://localhost:8080/"
        },
        "id": "FOAmEEkkRv1P",
        "outputId": "feaa7879-31f3-4c50-fc3a-3cd42a9860ee"
      },
      "outputs": [
        {
          "output_type": "stream",
          "name": "stdout",
          "text": [
            "[-1.46154957 -1.28401893  0.14272361 -2.16913399  1.07554672]\n"
          ]
        }
      ],
      "source": [
        "x = np.random.normal(size=5)\n",
        "print(x)"
      ]
    },
    {
      "cell_type": "markdown",
      "metadata": {
        "id": "0tJKpojYRv1R"
      },
      "source": [
        "### Write a NumPy program to generate six random integers between 10 and 30.\n",
        "\n",
        "Expected Output:\n",
        "[20 28 27 17 28 29]"
      ]
    },
    {
      "cell_type": "code",
      "execution_count": null,
      "metadata": {
        "colab": {
          "base_uri": "https://localhost:8080/"
        },
        "id": "issumWPeRv1S",
        "outputId": "fe54b0dc-f5fe-4b4b-c800-4b46bff76abc"
      },
      "outputs": [
        {
          "output_type": "stream",
          "name": "stdout",
          "text": [
            "[29 10 10 28 23 15]\n"
          ]
        }
      ],
      "source": [
        "x = np.random.randint(low=10, high=30, size=6)\n",
        "print(x)"
      ]
    },
    {
      "cell_type": "markdown",
      "source": [
        "### Write a NumPy program to create an element-wise comparison (greater, greater_equal, less and less_equal) of two given arrays.\n",
        "\n",
        "input: \n",
        "\n",
        "x = np.array([3, 5])\n",
        "\n",
        "y = np.array([2, 5])"
      ],
      "metadata": {
        "id": "j5MW4DvcR3MF"
      }
    },
    {
      "cell_type": "code",
      "source": [
        "x = np.array([3, 5])\n",
        "y = np.array([2, 5])\n",
        "print(\"Original numbers:\")\n",
        "print(x)\n",
        "print(y)\n",
        "print(\"Comparison - greater\")\n",
        "print(np.greater(x, y))\n",
        "print(\"Comparison - greater_equal\")\n",
        "print(np.greater_equal(x, y))\n",
        "print(\"Comparison - less\")\n",
        "print(np.less(x, y))\n",
        "print(\"Comparison - less_equal\")\n",
        "print(np.less_equal(x, y))"
      ],
      "metadata": {
        "colab": {
          "base_uri": "https://localhost:8080/"
        },
        "id": "Mt2AsrItR35K",
        "outputId": "bd828fe1-e45e-4cd2-e549-dc4b37cb19dc"
      },
      "execution_count": null,
      "outputs": [
        {
          "output_type": "stream",
          "name": "stdout",
          "text": [
            "Original numbers:\n",
            "[3 5]\n",
            "[2 5]\n",
            "Comparison - greater\n",
            "[ True False]\n",
            "Comparison - greater_equal\n",
            "[ True  True]\n",
            "Comparison - less\n",
            "[False False]\n",
            "Comparison - less_equal\n",
            "[False  True]\n"
          ]
        }
      ]
    },
    {
      "cell_type": "markdown",
      "source": [
        "### Write a NumPy program to create a 3x3 identity matrix."
      ],
      "metadata": {
        "id": "TfQi7ZgAT2I1"
      }
    },
    {
      "cell_type": "code",
      "source": [
        "array_2D=np.identity(3)\n",
        "print('3x3 matrix:')\n",
        "print(array_2D)"
      ],
      "metadata": {
        "colab": {
          "base_uri": "https://localhost:8080/"
        },
        "id": "-RVBLQOrT2ST",
        "outputId": "54e0af85-717f-45ac-d550-1113380978f1"
      },
      "execution_count": null,
      "outputs": [
        {
          "output_type": "stream",
          "name": "stdout",
          "text": [
            "3x3 matrix:\n",
            "[[1. 0. 0.]\n",
            " [0. 1. 0.]\n",
            " [0. 0. 1.]]\n"
          ]
        }
      ]
    },
    {
      "cell_type": "markdown",
      "metadata": {
        "id": "WKXixsN1Rv1T"
      },
      "source": [
        "### Write a NumPy program to get the powers of an array values element-wise. \n",
        "\n",
        "Note: First array elements raised to powers from second array\n",
        "\n",
        "Expected Output:\n",
        "\n",
        "Original array\n",
        "[0 1 2 3 4 5 6]\n",
        "\n",
        "First array elements raised to powers from second array, element-wise:\n",
        "[ 0 1 8 27 64 125 216]"
      ]
    },
    {
      "cell_type": "code",
      "execution_count": null,
      "metadata": {
        "colab": {
          "base_uri": "https://localhost:8080/"
        },
        "id": "bngEp8ECRv1U",
        "outputId": "6543abca-415a-4201-d475-7062f577943f"
      },
      "outputs": [
        {
          "output_type": "stream",
          "name": "stdout",
          "text": [
            "Original array\n",
            "[0 1 2 3 4 5 6]\n",
            "First array elements raised to powers from second array, element-wise:\n",
            "[  0   1   8  27  64 125 216]\n"
          ]
        }
      ],
      "source": [
        "x = np.arange(7)\n",
        "print(\"Original array\")\n",
        "print(x)\n",
        "print(\"First array elements raised to powers from second array, element-wise:\")\n",
        "print(np.power(x, 3))"
      ]
    },
    {
      "cell_type": "markdown",
      "metadata": {
        "id": "nq-1g1oHRv1W"
      },
      "source": [
        "### Write a NumPy program to repeat all the elements three times of a given array of string \n",
        "\n",
        "Expected Output:\n",
        "\n",
        "Original Array:\n",
        "['Python' 'PHP' 'Java' 'C++']\n",
        "\n",
        "New array:\n",
        "['PythonPythonPython' 'PHPPHPPHP' 'JavaJavaJava' 'C++C++C++']"
      ]
    },
    {
      "cell_type": "code",
      "execution_count": null,
      "metadata": {
        "colab": {
          "base_uri": "https://localhost:8080/"
        },
        "id": "wvD1SeolRv1X",
        "outputId": "cd15d8cf-2a9d-4fa5-b5a7-f3c971b1f81f"
      },
      "outputs": [
        {
          "output_type": "stream",
          "name": "stdout",
          "text": [
            "Original Array:\n",
            "['Python' 'PHP' 'Java' 'C++']\n",
            "New array:\n",
            "['PythonPythonPython' 'PHPPHPPHP' 'JavaJavaJava' 'C++C++C++']\n"
          ]
        }
      ],
      "source": [
        "x1 = np.array(['Python', 'PHP', 'Java', 'C++'])\n",
        "print(\"Original Array:\")\n",
        "print(x1)\n",
        "new_array = np.char.multiply(x1, 3)\n",
        "print(\"New array:\")\n",
        "print(new_array)"
      ]
    },
    {
      "cell_type": "markdown",
      "metadata": {
        "id": "UlrNW0deRv1Z"
      },
      "source": [
        "### Write a NumPy program to remove the leading whitespaces of all the elements of a given array. \n",
        "\n",
        "Sample Output:\n",
        "\n",
        "Original Array:\n",
        "[' python exercises ' ,' PHP ' ,' java ' ,' C++']\n",
        "\n",
        "Remove the leading whitespaces : ['python exercises ', 'PHP ' ,'java ' ,'C++']"
      ]
    },
    {
      "cell_type": "code",
      "execution_count": null,
      "metadata": {
        "colab": {
          "base_uri": "https://localhost:8080/"
        },
        "id": "ADyH6hpHRv1Z",
        "outputId": "91a38e4b-c280-4528-9efd-d1276fdd1e2e"
      },
      "outputs": [
        {
          "output_type": "stream",
          "name": "stdout",
          "text": [
            "Original Array:\n",
            "[' python exercises ' ' PHP  ' ' java  ' '  C++']\n",
            "\n",
            "Remove the leading and trailing whitespaces:  ['python exercises' 'PHP' 'java' 'C++']\n"
          ]
        }
      ],
      "source": [
        "x = np.array([' python exercises ', ' PHP  ', ' java  ', '  C++'])\n",
        "print(\"Original Array:\")\n",
        "print(x)\n",
        "stripped = np.char.strip(x)\n",
        "print(\"\\nRemove the leading and trailing whitespaces: \", stripped)"
      ]
    },
    {
      "cell_type": "markdown",
      "source": [
        "### Write a NumPy program to create a structured array from given student name, height, class and their data types. Now sort the array on height. \n",
        "\n",
        "Sample Output:\n",
        "\n",
        "Original array:\n",
        "\n",
        "[(b'James', 5, 48.5 ) (b'Nail', 6, 52.5 ) (b'Paul', 5, 42.1 )\n",
        "(b'Pit', 5, 40.11)]\n",
        "\n",
        "Sort by height\n",
        "\n",
        "[(b'Pit', 5, 40.11) (b'Paul', 5, 42.1 ) (b'James', 5, 48.5 )\n",
        "(b'Nail', 6, 52.5 )]"
      ],
      "metadata": {
        "id": "9KiT6Cu-T_ky"
      }
    },
    {
      "cell_type": "code",
      "source": [
        "data_type = [('name', 'S15'), ('class', int), ('height', float)]\n",
        "students_details = [('James', 5, 48.5), ('Nail', 6, 52.5),('Paul', 5, 42.10), ('Pit', 5, 40.11)]\n",
        "# create a structured array\n",
        "students = np.array(students_details, dtype=data_type)   \n",
        "print(\"Original array:\")\n",
        "print(students)\n",
        "print(\"Sort by height\")\n",
        "print(np.sort(students, order='height')) "
      ],
      "metadata": {
        "colab": {
          "base_uri": "https://localhost:8080/"
        },
        "id": "-0oYJqqPUa0E",
        "outputId": "976ae357-6b77-478c-cb92-34a19579ef43"
      },
      "execution_count": null,
      "outputs": [
        {
          "output_type": "stream",
          "name": "stdout",
          "text": [
            "Original array:\n",
            "[(b'James', 5, 48.5 ) (b'Nail', 6, 52.5 ) (b'Paul', 5, 42.1 )\n",
            " (b'Pit', 5, 40.11)]\n",
            "Sort by height\n",
            "[(b'Pit', 5, 40.11) (b'Paul', 5, 42.1 ) (b'James', 5, 48.5 )\n",
            " (b'Nail', 6, 52.5 )]\n"
          ]
        }
      ]
    },
    {
      "cell_type": "markdown",
      "source": [
        "### Write a NumPy program to get the indices of the sorted elements of a given array. \n",
        "\n",
        "Expected Output:\n",
        "\n",
        "Original array:\n",
        "\n",
        "[1023 5202 6230 1671 1682 5241 4532]\n",
        "\n",
        "Indices of the sorted elements of a given array:\n",
        "\n",
        "[0 3 4 6 1 5 2]"
      ],
      "metadata": {
        "id": "bGjzmsDST_q3"
      }
    },
    {
      "cell_type": "code",
      "source": [
        "student_id = np.array([1023, 5202, 6230, 1671, 1682, 5241, 4532])\n",
        "print(\"Original array:\")\n",
        "print(student_id)\n",
        "i = np.argsort(student_id)\n",
        "print(\"Indices of the sorted elements of a given array:\")\n",
        "print(i)"
      ],
      "metadata": {
        "colab": {
          "base_uri": "https://localhost:8080/"
        },
        "id": "JuQ3JI1-UgYC",
        "outputId": "110b98f8-e7b5-4054-ac91-4a94484a991e"
      },
      "execution_count": null,
      "outputs": [
        {
          "output_type": "stream",
          "name": "stdout",
          "text": [
            "Original array:\n",
            "[1023 5202 6230 1671 1682 5241 4532]\n",
            "Indices of the sorted elements of a given array:\n",
            "[0 3 4 6 1 5 2]\n"
          ]
        }
      ]
    },
    {
      "cell_type": "markdown",
      "source": [
        "### Write a NumPy program to sort an given array by the nth column.\n",
        "\n",
        "Original array:\n",
        "\n",
        "[[1 5 0]\n",
        "\n",
        "[3 2 5]\n",
        "\n",
        "[8 7 6]]\n",
        "\n",
        "Sort the said array by the nth column:\n",
        "\n",
        "[[3 2 5]\n",
        "\n",
        "[1 5 0]\n",
        "\n",
        "[8 7 6]]"
      ],
      "metadata": {
        "id": "oFQLg4pbT_uF"
      }
    },
    {
      "cell_type": "code",
      "source": [
        "print(\"Original array:\\n\")\n",
        "nums = np.random.randint(0,10,(3,3))\n",
        "print(nums)\n",
        "print(\"\\nSort the said array by the nth column: \")\n",
        "print(nums[nums[:,1].argsort()])"
      ],
      "metadata": {
        "colab": {
          "base_uri": "https://localhost:8080/"
        },
        "id": "mTnYKpeqUjD0",
        "outputId": "3dc91e2d-ec5b-405c-87bc-57c0b30a51de"
      },
      "execution_count": null,
      "outputs": [
        {
          "output_type": "stream",
          "name": "stdout",
          "text": [
            "Original array:\n",
            "\n",
            "[[8 9 5]\n",
            " [8 5 9]\n",
            " [9 8 1]]\n",
            "\n",
            "Sort the said array by the nth column: \n",
            "[[8 5 9]\n",
            " [9 8 1]\n",
            " [8 9 5]]\n"
          ]
        }
      ]
    },
    {
      "cell_type": "markdown",
      "source": [
        "### Write a NumPy program to get the dates of yesterday, today and tomorrow.\n",
        "\n",
        "Sample Output:\n",
        "\n",
        "Yestraday:  2022-04-11\n",
        "\n",
        "Today:  2022-04-12\n",
        "\n",
        "Tomorrow:  2022-04-13"
      ],
      "metadata": {
        "id": "3CARQXglT_yk"
      }
    },
    {
      "cell_type": "code",
      "source": [
        "yesterday = np.datetime64('today', 'D') - np.timedelta64(1, 'D')\n",
        "print(\"Yestraday: \",yesterday)\n",
        "today     = np.datetime64('today', 'D')\n",
        "print(\"Today: \",today)\n",
        "tomorrow  = np.datetime64('today', 'D') + np.timedelta64(1, 'D')\n",
        "print(\"Tomorrow: \",tomorrow)"
      ],
      "metadata": {
        "colab": {
          "base_uri": "https://localhost:8080/"
        },
        "id": "HnlKFrMqUlLK",
        "outputId": "21ee3a12-eb31-40f5-e434-6f03ad92472f"
      },
      "execution_count": null,
      "outputs": [
        {
          "output_type": "stream",
          "name": "stdout",
          "text": [
            "Yestraday:  2022-04-13\n",
            "Today:  2022-04-14\n",
            "Tomorrow:  2022-04-15\n"
          ]
        }
      ]
    },
    {
      "cell_type": "markdown",
      "source": [
        "### Write a NumPy program to find the number of weekdays in March 2017.\n",
        "Note: \"busday\" default of Monday through Friday being valid days.\n",
        "\n",
        "Sample Output:\n",
        "\n",
        "Number of weekdays in March 2022:\n",
        "23"
      ],
      "metadata": {
        "id": "Kqy9bMKMT_1b"
      }
    },
    {
      "cell_type": "code",
      "source": [
        "print(\"Number of weekdays in March 2022:\")\n",
        "print(np.busday_count('2022-03', '2022-04'))"
      ],
      "metadata": {
        "colab": {
          "base_uri": "https://localhost:8080/"
        },
        "id": "AFIhGGWZU-BL",
        "outputId": "2f6bfac0-a2ec-46cc-8bbb-846177df6c8b"
      },
      "execution_count": null,
      "outputs": [
        {
          "output_type": "stream",
          "name": "stdout",
          "text": [
            "Number of weekdays in March 2022:\n",
            "23\n"
          ]
        }
      ]
    },
    {
      "cell_type": "markdown",
      "source": [
        "### Write a NumPy program to convert numpy datetime64 to Timestamp.\n",
        "\n",
        "Sample output:\n",
        "\n",
        "Current date:\n",
        "2022-04-12 12:28:12.526553\n",
        "\n",
        "Timestamp:\n",
        "1649766492.526553\n",
        "\n",
        "UTC from Timestamp:\n",
        "2022-04-12 12:28:12.526553"
      ],
      "metadata": {
        "id": "7MeGYNjaT_5C"
      }
    },
    {
      "cell_type": "code",
      "source": [
        "from datetime import datetime\n",
        "dt = datetime.utcnow()\n",
        "print(\"Current date:\")\n",
        "print(dt)\n",
        "dt64 = np.datetime64(dt)\n",
        "ts = (dt64 - np.datetime64('1970-01-01T00:00:00Z')) / np.timedelta64(1, 's')\n",
        "print(\"Timestamp:\")\n",
        "print(ts)\n",
        "print(\"UTC from Timestamp:\")\n",
        "print(datetime.utcfromtimestamp(ts))"
      ],
      "metadata": {
        "colab": {
          "base_uri": "https://localhost:8080/"
        },
        "id": "o1heGtZNVE4r",
        "outputId": "41c6c804-329c-4bba-a03b-c574538fdccf"
      },
      "execution_count": null,
      "outputs": [
        {
          "output_type": "stream",
          "name": "stdout",
          "text": [
            "Current date:\n",
            "2022-04-14 13:50:39.731599\n",
            "Timestamp:\n",
            "1649944239.731599\n",
            "UTC from Timestamp:\n",
            "2022-04-14 13:50:39.731599\n"
          ]
        },
        {
          "output_type": "stream",
          "name": "stderr",
          "text": [
            "/usr/local/lib/python3.7/dist-packages/ipykernel_launcher.py:6: DeprecationWarning: parsing timezone aware datetimes is deprecated; this will raise an error in the future\n",
            "  \n"
          ]
        }
      ]
    },
    {
      "cell_type": "markdown",
      "source": [
        "### Write a NumPy program to get true division of the element-wise array inputs.\n",
        "\n",
        "Expected Output:\n",
        "\n",
        "Original array:\n",
        "[0 1 2 3 4 5 6 7 8 9]\n",
        "\n",
        "Division of the array inputs, element-wise:\n",
        "[ 0. 0.33333333 0.66666667 1. 1.33333333 1.6666666\n",
        "7 2. 2.33333333 2.66666667 3. ]"
      ],
      "metadata": {
        "id": "ltGsllE6VixT"
      }
    },
    {
      "cell_type": "code",
      "source": [
        "x = np.arange(10)\n",
        "print(\"Original array:\")\n",
        "print(x)\n",
        "print(\"Division of the array inputs, element-wise:\")\n",
        "print(np.true_divide(x, 3))"
      ],
      "metadata": {
        "colab": {
          "base_uri": "https://localhost:8080/"
        },
        "id": "Q6NakPolVlkV",
        "outputId": "628bb751-a38e-4ba5-bf3b-e174360cf2fd"
      },
      "execution_count": null,
      "outputs": [
        {
          "output_type": "stream",
          "name": "stdout",
          "text": [
            "Original array:\n",
            "[0 1 2 3 4 5 6 7 8 9]\n",
            "Division of the array inputs, element-wise:\n",
            "[0.         0.33333333 0.66666667 1.         1.33333333 1.66666667\n",
            " 2.         2.33333333 2.66666667 3.        ]\n"
          ]
        }
      ]
    },
    {
      "cell_type": "markdown",
      "source": [
        "### Write a NumPy program to get the largest integer smaller or equal to the division of the inputs. \n",
        "\n",
        "Expected Output:\n",
        "\n",
        "Original array:\n",
        "[1.0, 2.0, 3.0, 4.0]\n",
        "\n",
        "Largest integer smaller or equal to the division of the inputs:\n",
        "[ 0. 1. 2. 2.]"
      ],
      "metadata": {
        "id": "NmjnbGE-T_8E"
      }
    },
    {
      "cell_type": "code",
      "source": [
        "x = [1., 2., 3., 4.]\n",
        "print(\"Original array:\")\n",
        "print(x)\n",
        "print(\"Largest integer smaller or equal to the division of the inputs:\")\n",
        "print(np.floor_divide(x, 1.5))"
      ],
      "metadata": {
        "colab": {
          "base_uri": "https://localhost:8080/"
        },
        "id": "oDDMdb9LVHfV",
        "outputId": "f9edbdc6-55ab-4495-a8b5-a5893db6cb18"
      },
      "execution_count": null,
      "outputs": [
        {
          "output_type": "stream",
          "name": "stdout",
          "text": [
            "Original array:\n",
            "[1.0, 2.0, 3.0, 4.0]\n",
            "Largest integer smaller or equal to the division of the inputs:\n",
            "[0. 1. 2. 2.]\n"
          ]
        }
      ]
    },
    {
      "cell_type": "markdown",
      "metadata": {
        "id": "QyFGaO4CRv1a"
      },
      "source": [
        "### Write a NumPy program to sort the specified number of elements from beginning of a given array. \n",
        "\n",
        "Sample output:\n",
        "\n",
        "Original array:\n",
        "[0.39536213 0.11779404 0.32612381 0.16327394 0.98837963 0.25510787 0.01398678 0.15188239 0.12057667 0.67278699]\n",
        "\n",
        "Sorted first 5 elements:\n",
        "[0.01398678 0.11779404 0.12057667 0.15188239 0.16327394 0.25510787 0.39536213 0.98837963 0.32612381 0.67278699]"
      ]
    },
    {
      "cell_type": "code",
      "execution_count": null,
      "metadata": {
        "colab": {
          "base_uri": "https://localhost:8080/"
        },
        "id": "RHVZwS9kRv1c",
        "outputId": "49d525cd-21a1-4826-eed2-b057ba7bceea"
      },
      "outputs": [
        {
          "output_type": "stream",
          "name": "stdout",
          "text": [
            "Original array:\n",
            "[0.21429403 0.34197934 0.672059   0.22829598 0.08831722 0.09769704\n",
            " 0.49379181 0.5926089  0.76595179 0.72188262]\n",
            "\n",
            "Sorted first 5 elements:\n",
            "[0.08831722 0.09769704 0.21429403 0.22829598 0.34197934 0.672059\n",
            " 0.49379181 0.5926089  0.76595179 0.72188262]\n"
          ]
        }
      ],
      "source": [
        "nums =  np.random.rand(10)\n",
        "print(\"Original array:\")\n",
        "print(nums)\n",
        "print(\"\\nSorted first 5 elements:\")\n",
        "print(nums[np.argpartition(nums,range(5))])"
      ]
    }
  ],
  "metadata": {
    "interpreter": {
      "hash": "68876b6383b62dc997f1e2adc12eb301a61958dc7fa62c10c14261960fd63dae"
    },
    "kernelspec": {
      "display_name": "Python 3.7.9 ('jupyterenv': venv)",
      "language": "python",
      "name": "python3"
    },
    "language_info": {
      "codemirror_mode": {
        "name": "ipython",
        "version": 3
      },
      "file_extension": ".py",
      "mimetype": "text/x-python",
      "name": "python",
      "nbconvert_exporter": "python",
      "pygments_lexer": "ipython3",
      "version": "3.7.9"
    },
    "orig_nbformat": 4,
    "colab": {
      "name": "solution_numpy.ipynb",
      "provenance": []
    }
  },
  "nbformat": 4,
  "nbformat_minor": 0
}